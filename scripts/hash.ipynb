{
 "cells": [
  {
   "cell_type": "code",
   "execution_count": 1,
   "metadata": {},
   "outputs": [],
   "source": [
    "from cryptography.hazmat.primitives import hashes\n",
    "from cryptography.hazmat.backends import default_backend\n",
    "import base64"
   ]
  },
  {
   "cell_type": "code",
   "execution_count": 2,
   "metadata": {},
   "outputs": [
    {
     "name": "stdout",
     "output_type": "stream",
     "text": [
      "Mot de passe haché en hexadécimal: fa10266fbb3b9a798ad9f2f79164f4b24ab35398f1f8cb3e3e45f01e120f9494\n",
      "Mot de passe haché en base64: +hAmb7s7mnmK2fL3kWT0skqzU5jx+Ms+PkXwHhIPlJQ=\n"
     ]
    }
   ],
   "source": [
    "# Mot de passe à hacher\n",
    "mot_de_passe = \"mot_de_passe\"\n",
    "\n",
    "# Convertir le mot de passe en bytes\n",
    "mot_de_passe_bytes = mot_de_passe.encode()\n",
    "\n",
    "# Créer un objet de hachage SHA-256\n",
    "digest = hashes.Hash(hashes.SHA256(), backend=default_backend())\n",
    "\n",
    "# Mettre à jour le hachage avec le mot de passe\n",
    "digest.update(mot_de_passe_bytes)\n",
    "\n",
    "# Finaliser le hachage et le convertir en format hexadécimal\n",
    "hash_bytes = digest.finalize()\n",
    "hash_hex = hash_bytes.hex()\n",
    "\n",
    "# Encoder le hachage en base64\n",
    "hash_base64 = base64.b64encode(hash_bytes).decode()\n",
    "\n",
    "print(\"Mot de passe haché en hexadécimal:\", hash_hex)\n",
    "print(\"Mot de passe haché en base64:\", hash_base64)"
   ]
  },
  {
   "cell_type": "code",
   "execution_count": 3,
   "metadata": {},
   "outputs": [
    {
     "name": "stdout",
     "output_type": "stream",
     "text": [
      "Mot de passe haché en hexadécimal: fa10266fbb3b9a798ad9f2f79164f4b24ab35398f1f8cb3e3e45f01e120f9494\n",
      "Mot de passe haché en base64: +hAmb7s7mnmK2fL3kWT0skqzU5jx+Ms+PkXwHhIPlJQ=\n"
     ]
    }
   ],
   "source": [
    "# Mot de passe à hacher\n",
    "mot_de_passe = \"mot_de_passe\"\n",
    "\n",
    "# Convertir le mot de passe en bytes\n",
    "mot_de_passe_bytes = mot_de_passe.encode()\n",
    "\n",
    "# Créer un objet de hachage SHA-256\n",
    "digest = hashes.Hash(hashes.SHA256(), backend=default_backend())\n",
    "\n",
    "# Mettre à jour le hachage avec le mot de passe\n",
    "digest.update(mot_de_passe_bytes)\n",
    "\n",
    "# Finaliser le hachage et le convertir en format hexadécimal\n",
    "hash_bytes = digest.finalize()\n",
    "hash_hex = hash_bytes.hex()\n",
    "\n",
    "# Encoder le hachage en base64\n",
    "hash_base64 = base64.b64encode(hash_bytes).decode()\n",
    "\n",
    "print(\"Mot de passe haché en hexadécimal:\", hash_hex)\n",
    "print(\"Mot de passe haché en base64:\", hash_base64)"
   ]
  },
  {
   "cell_type": "code",
   "execution_count": 3,
   "metadata": {},
   "outputs": [
    {
     "name": "stdout",
     "output_type": "stream",
     "text": [
      "Chaine de caractères aléatoire: OdwoSrjSvdLiyRBsUIrVVHq82mrCu12vVcfKpr46RJ8=\n"
     ]
    }
   ],
   "source": [
    "import os\n",
    "import base64\n",
    "\n",
    "# Générer une chaîne de caractères aléatoire\n",
    "token_bytes = os.urandom(32)  # 16 octets pour une chaîne de 32 caractères hexadécimaux\n",
    "token = base64.urlsafe_b64encode(token_bytes).decode()\n",
    "\n",
    "print(\"Chaine de caractères aléatoire:\", token)"
   ]
  }
 ],
 "metadata": {
  "kernelspec": {
   "display_name": "env",
   "language": "python",
   "name": "python3"
  },
  "language_info": {
   "codemirror_mode": {
    "name": "ipython",
    "version": 3
   },
   "file_extension": ".py",
   "mimetype": "text/x-python",
   "name": "python",
   "nbconvert_exporter": "python",
   "pygments_lexer": "ipython3",
   "version": "3.10.4"
  }
 },
 "nbformat": 4,
 "nbformat_minor": 2
}
